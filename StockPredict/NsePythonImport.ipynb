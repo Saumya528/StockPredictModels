{
 "cells": [
  {
   "cell_type": "markdown",
   "id": "075045e1-b067-4b10-b0f2-e1200a183f04",
   "metadata": {},
   "source": [
    "Use Of NSE Python\n",
    "https://pypi.org/project/nsepython/\n"
   ]
  },
  {
   "cell_type": "code",
   "execution_count": 36,
   "id": "176c542a-d706-444b-b083-76b38f9262d7",
   "metadata": {},
   "outputs": [
    {
     "name": "stdout",
     "output_type": "stream",
     "text": [
      "Collecting nsepythonNote: you may need to restart the kernel to use updated packages.\n",
      "\n",
      "  Downloading nsepython-2.94-py3-none-any.whl.metadata (7.4 kB)\n",
      "Requirement already satisfied: requests in c:\\users\\saumya mitra\\anaconda3\\lib\\site-packages (from nsepython) (2.32.2)\n",
      "Requirement already satisfied: pandas in c:\\users\\saumya mitra\\anaconda3\\lib\\site-packages (from nsepython) (2.2.2)\n",
      "Requirement already satisfied: scipy in c:\\users\\saumya mitra\\anaconda3\\lib\\site-packages (from nsepython) (1.13.1)\n",
      "Requirement already satisfied: numpy>=1.26.0 in c:\\users\\saumya mitra\\anaconda3\\lib\\site-packages (from pandas->nsepython) (1.26.4)\n",
      "Requirement already satisfied: python-dateutil>=2.8.2 in c:\\users\\saumya mitra\\anaconda3\\lib\\site-packages (from pandas->nsepython) (2.9.0.post0)\n",
      "Requirement already satisfied: pytz>=2020.1 in c:\\users\\saumya mitra\\anaconda3\\lib\\site-packages (from pandas->nsepython) (2024.1)\n",
      "Requirement already satisfied: tzdata>=2022.7 in c:\\users\\saumya mitra\\anaconda3\\lib\\site-packages (from pandas->nsepython) (2023.3)\n",
      "Requirement already satisfied: charset-normalizer<4,>=2 in c:\\users\\saumya mitra\\anaconda3\\lib\\site-packages (from requests->nsepython) (2.0.4)\n",
      "Requirement already satisfied: idna<4,>=2.5 in c:\\users\\saumya mitra\\anaconda3\\lib\\site-packages (from requests->nsepython) (3.7)\n",
      "Requirement already satisfied: urllib3<3,>=1.21.1 in c:\\users\\saumya mitra\\anaconda3\\lib\\site-packages (from requests->nsepython) (2.2.2)\n",
      "Requirement already satisfied: certifi>=2017.4.17 in c:\\users\\saumya mitra\\anaconda3\\lib\\site-packages (from requests->nsepython) (2024.7.4)\n",
      "Requirement already satisfied: six>=1.5 in c:\\users\\saumya mitra\\anaconda3\\lib\\site-packages (from python-dateutil>=2.8.2->pandas->nsepython) (1.16.0)\n",
      "Downloading nsepython-2.94-py3-none-any.whl (25 kB)\n",
      "Installing collected packages: nsepython\n",
      "Successfully installed nsepython-2.94\n"
     ]
    }
   ],
   "source": [
    "pip install nsepython\n"
   ]
  },
  {
   "cell_type": "code",
   "execution_count": 38,
   "id": "c960cd07-2d5f-4af1-b9b9-9c70f087668b",
   "metadata": {},
   "outputs": [
    {
     "name": "stdout",
     "output_type": "stream",
     "text": [
      "['NIFTY', 'FINNIFTY', 'BANKNIFTY']\n"
     ]
    }
   ],
   "source": [
    "from nsepython import *\n",
    "print(indices)\n"
   ]
  },
  {
   "cell_type": "code",
   "execution_count": 40,
   "id": "f404b30a-172a-4885-ad10-b820bbb079e7",
   "metadata": {},
   "outputs": [
    {
     "name": "stdout",
     "output_type": "stream",
     "text": [
      "{'symbol': 'RELIANCE', 'identifier': '', 'series': 'EQ', 'open': '1278.95', 'dayHigh': '1286', 'dayLow': '1267', 'lastPrice': '1273.4', 'previousClose': '1283.75', 'change': -10.35, 'pChange': -0.81, 'totalTradedVolume': 9056552, 'totalTradedValue': 11550998117.36, 'lastUpdateTime': '28-OCT-2024', 'yearHigh': '1608.8', 'yearLow': '1149.03', 'nearWKH': 20.847836897066127, 'nearWKL': -10.823912343454923, 'perChange365d': -44.54, 'date365dAgo': '10-Nov-2023', 'chart365dPath': 'https://nsearchives.nseindia.com/365d/RELIANCE-EQ.svg', 'date30dAgo': '11-Oct-2024', 'perChange30d': -53.22, 'chart30dPath': 'https://nsearchives.nseindia.com/30d/RELIANCE-EQ.svg', 'chartTodayPath': 'https://nsearchives.nseindia.com/today/RELIANCEEQN.svg', 'meta': {'symbol': 'RELIANCE', 'companyName': 'Reliance Industries Limited', 'industry': 'Refineries & Marketing', 'activeSeries': ['EQ'], 'debtSeries': [], 'isFNOSec': True, 'isCASec': False, 'isSLBSec': True, 'isDebtSec': False, 'isSuspended': False, 'tempSuspendedSeries': [], 'isETFSec': False, 'isDelisted': False, 'isin': 'INE002A01018', 'slb_isin': 'INE002A01018', 'listingDate': '1995-11-29', 'isMunicipalBond': False, 'quotepreopenstatus': {'equityTime': '11-Nov-2024 16:00:00', 'preOpenTime': '11-Nov-2024 09:07:22', 'QuotePreOpenFlag': False}}}\n"
     ]
    }
   ],
   "source": [
    "print(nsetools_get_quote(\"reliance\"))"
   ]
  },
  {
   "cell_type": "code",
   "execution_count": 44,
   "id": "82c8abf3-8edf-467a-a9eb-19b3983dd690",
   "metadata": {},
   "outputs": [
    {
     "name": "stdout",
     "output_type": "stream",
     "text": [
      "       yearLow       last                                        indexName  \\\n",
      "0    19,667.45  24,141.30                                         NIFTY 50   \n",
      "1    46,367.85  69,973.75                                    NIFTY NEXT 50   \n",
      "2    31,320.15  42,590.30                                         NIFTY IT   \n",
      "3    43,230.95  51,876.75                                       NIFTY BANK   \n",
      "4       8.3950    14.2700                                        INDIA VIX   \n",
      "..         ...        ...                                              ...   \n",
      "196          -    1154.07                       NIFTY G-SEC MAY 2029 INDEX   \n",
      "197          -    1172.36  NIFTY INDIA SOVEREIGN GREEN BOND JAN 2033 INDEX   \n",
      "198          -    1142.40  NIFTY INDIA SOVEREIGN GREEN BOND JAN 2028 INDEX   \n",
      "199          -    1139.33                       NIFTY G-SEC JUL 2027 INDEX   \n",
      "200          -    1102.90                       NIFTY G-SEC JUL 2033 INDEX   \n",
      "\n",
      "      yearHigh previousClose       high indexType        low  \\\n",
      "0    26,277.35     24,148.20  24,336.80        eq  24,004.60   \n",
      "1    77,918.00     69,774.20  70,603.00        eq  69,228.40   \n",
      "2    43,645.90     42,050.15  42,798.15        eq  41,793.65   \n",
      "3    54,467.35     51,561.20  52,177.70        eq  51,294.20   \n",
      "4      31.7100       14.4700    15.4700        eq    13.1175   \n",
      "..         ...           ...        ...       ...        ...   \n",
      "196          -             -          -         -          -   \n",
      "197          -             -          -         -          -   \n",
      "198          -             -          -         -          -   \n",
      "199          -             -          -         -          -   \n",
      "200          -             -          -         -          -   \n",
      "\n",
      "                   timeVal percChange indexOrder       open indexSubType  \n",
      "0    Nov 11, 2024 15:33:26      -0.03       0.00  24,087.25           bm  \n",
      "1    Nov 11, 2024 15:33:26       0.29       1.00  69,713.60           bm  \n",
      "2    Nov 11, 2024 15:33:26       1.28       2.00  41,991.35           sc  \n",
      "3    Nov 11, 2024 15:33:26       0.61       3.00  51,562.70           sc  \n",
      "4    Nov 11, 2024 15:33:26      -1.38     4.0000    14.4700           bm  \n",
      "..                     ...        ...        ...        ...          ...  \n",
      "196            11-NOV-2024          -          -          -            -  \n",
      "197            11-NOV-2024          -          -          -            -  \n",
      "198            11-NOV-2024          -          -          -            -  \n",
      "199            11-NOV-2024          -          -          -            -  \n",
      "200            11-NOV-2024          -          -          -            -  \n",
      "\n",
      "[201 rows x 13 columns]\n"
     ]
    }
   ],
   "source": [
    "print(nse_index())"
   ]
  },
  {
   "cell_type": "code",
   "execution_count": 46,
   "id": "4710cc90-9136-4638-bd6c-1c849c36d43c",
   "metadata": {},
   "outputs": [
    {
     "name": "stdout",
     "output_type": "stream",
     "text": [
      "['yearLow' 'last' 'indexName' 'yearHigh' 'previousClose' 'high'\n",
      " 'indexType' 'low' 'timeVal' 'percChange' 'indexOrder' 'open'\n",
      " 'indexSubType']\n"
     ]
    }
   ],
   "source": [
    "print(nse_index().columns.values)"
   ]
  },
  {
   "cell_type": "markdown",
   "id": "3f84c0a9-ae51-44d4-87b3-75f38a970f16",
   "metadata": {},
   "source": [
    "import requests\n",
    "import json\n",
    "\n",
    "# Your Finnhub API key\n",
    "api_key = 'csp570pr01qnvmpuortgcsp570pr01qnvmpuoru0'\n",
    "\n",
    "# Define the endpoint and parameters\n",
    "symbol = 'RELIANCE'  # For example, Apple Inc.\n",
    "url = f'https://finnhub.io/api/v1/quote?symbol={symbol}.NSE&token={api_key}'\n",
    "\n",
    "# Make the request to Finnhub\n",
    "response = requests.get(url)\n",
    "\n",
    "# Check if the request was successful\n",
    "if response.status_code == 200:\n",
    "    # Parse the JSON response\n",
    "    data = response.json()\n",
    "    # Display the data\n",
    "    print(\"Real-time data for:\", symbol)\n",
    "    print(\"Current Price:\", data['c'])\n",
    "    print(\"High Price of the day:\", data['h'])\n",
    "    print(\"Low Price of the day:\", data['l'])\n",
    "    print(\"Opening Price:\", data['o'])\n",
    "    print(\"Previous Close Price:\", data['pc'])\n",
    "else:\n",
    "    print(\"Failed to retrieve data:\", response.status_code)\n"
   ]
  },
  {
   "cell_type": "code",
   "execution_count": null,
   "id": "ee07908d-eac7-4581-9559-22f9ca8b0cf6",
   "metadata": {},
   "outputs": [],
   "source": []
  }
 ],
 "metadata": {
  "kernelspec": {
   "display_name": "Python 3 (ipykernel)",
   "language": "python",
   "name": "python3"
  },
  "language_info": {
   "codemirror_mode": {
    "name": "ipython",
    "version": 3
   },
   "file_extension": ".py",
   "mimetype": "text/x-python",
   "name": "python",
   "nbconvert_exporter": "python",
   "pygments_lexer": "ipython3",
   "version": "3.12.4"
  }
 },
 "nbformat": 4,
 "nbformat_minor": 5
}
