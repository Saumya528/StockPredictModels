{
 "cells": [
  {
   "cell_type": "code",
   "execution_count": 6,
   "id": "db96829d-f66e-4874-a032-5029f7f564e0",
   "metadata": {},
   "outputs": [
    {
     "name": "stdout",
     "output_type": "stream",
     "text": [
      "dict_keys(['info', 'underlyingValue', 'vfq', 'fut_timestamp', 'opt_timestamp', 'stocks', 'strikePrices', 'expiryDates', 'allSymbol', 'underlyingInfo', 'expiryDatesByInstrument'])\n",
      "Index(['_id', 'CH_SYMBOL', 'CH_SERIES', 'CH_MARKET_TYPE',\n",
      "       'CH_TRADE_HIGH_PRICE', 'CH_TRADE_LOW_PRICE', 'CH_OPENING_PRICE',\n",
      "       'CH_CLOSING_PRICE', 'CH_LAST_TRADED_PRICE', 'CH_PREVIOUS_CLS_PRICE',\n",
      "       'CH_TOT_TRADED_QTY', 'CH_TOT_TRADED_VAL', 'CH_52WEEK_HIGH_PRICE',\n",
      "       'CH_52WEEK_LOW_PRICE', 'CH_TOTAL_TRADES', 'CH_ISIN', 'CH_TIMESTAMP',\n",
      "       'TIMESTAMP', 'createdAt', 'updatedAt', '__v', 'SLBMH_TOT_VAL', 'VWAP',\n",
      "       'mTIMESTAMP', 'CA'],\n",
      "      dtype='object')\n"
     ]
    }
   ],
   "source": [
    "#!pip install nsepython\n",
    "from nsepython import *\n",
    "import pandas as pd\n",
    "import matplotlib.pyplot as plt\n",
    "\n",
    "# Fetch historical data for a stock\n",
    "symbol = \"RELIANCE\"  # Replace with your desired stock symbol\n",
    "\n",
    "symbol = \"RELIANCE\"  # Replace with your desired stock symbol\n",
    "#data = nsefetch(f\"https://www.nseindia.com/api/historical/cm/equity?symbol={symbol}&series=[%22EQ%22]&from=2023-01-01&to=2023-12-31\")\n",
    "df1=nse_quote(symbol)\n",
    "print(df1.keys())\n",
    "\n",
    "\n",
    "# Fetch stock details\n",
    "end_date = datetime.datetime.now().strftime(\"%d-%m-%Y\")\n",
    "start_date = (datetime.datetime.now() - datetime.timedelta(days=365)).strftime(\"%d-%m-%Y\")\n",
    "series = \"EQ\"\n",
    "#print(data)\n",
    "# Convert data to DataFrame\n",
    "df= equity_history(symbol.upper(), series, start_date, end_date)\n",
    "\n",
    "print(df.columns)\n",
    "#data = nsefetch(f\"https://www.nseindia.com/api/historical/cm/equity?symbol={symbol}&series=[%22EQ%22]&from=2023-01-01&to=2023-12-31\")\n",
    "#data= nse_quote(symbol)\n",
    "# Save JSON data to a file\n",
    "#file_name = \"stock_data.json\"\n",
    "\n",
    "#with open(file_name, \"w\") as json_file:\n",
    "    #json.dump(data, json_file, indent=4)  # Use indent for pretty formatting\n",
    "\n",
    "#print(f\"JSON data saved to {file_name}\")"
   ]
  },
  {
   "cell_type": "code",
   "execution_count": null,
   "id": "d8a7a882-3ced-43ab-a40e-835cc7095749",
   "metadata": {},
   "outputs": [],
   "source": []
  }
 ],
 "metadata": {
  "kernelspec": {
   "display_name": "Python 3 (ipykernel)",
   "language": "python",
   "name": "python3"
  },
  "language_info": {
   "codemirror_mode": {
    "name": "ipython",
    "version": 3
   },
   "file_extension": ".py",
   "mimetype": "text/x-python",
   "name": "python",
   "nbconvert_exporter": "python",
   "pygments_lexer": "ipython3",
   "version": "3.12.7"
  }
 },
 "nbformat": 4,
 "nbformat_minor": 5
}
