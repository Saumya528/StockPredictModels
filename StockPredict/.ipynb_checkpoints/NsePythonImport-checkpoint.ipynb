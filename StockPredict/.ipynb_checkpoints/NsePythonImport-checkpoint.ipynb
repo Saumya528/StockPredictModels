{
 "cells": [
  {
   "cell_type": "markdown",
   "id": "075045e1-b067-4b10-b0f2-e1200a183f04",
   "metadata": {},
   "source": [
    "Use Of NSE Python\n",
    "https://pypi.org/project/nsepython/\n"
   ]
  },
  {
   "cell_type": "code",
   "execution_count": 36,
   "id": "176c542a-d706-444b-b083-76b38f9262d7",
   "metadata": {},
   "outputs": [
    {
     "name": "stdout",
     "output_type": "stream",
     "text": [
      "Collecting nsepythonNote: you may need to restart the kernel to use updated packages.\n",
      "\n",
      "  Downloading nsepython-2.94-py3-none-any.whl.metadata (7.4 kB)\n",
      "Requirement already satisfied: requests in c:\\users\\saumya mitra\\anaconda3\\lib\\site-packages (from nsepython) (2.32.2)\n",
      "Requirement already satisfied: pandas in c:\\users\\saumya mitra\\anaconda3\\lib\\site-packages (from nsepython) (2.2.2)\n",
      "Requirement already satisfied: scipy in c:\\users\\saumya mitra\\anaconda3\\lib\\site-packages (from nsepython) (1.13.1)\n",
      "Requirement already satisfied: numpy>=1.26.0 in c:\\users\\saumya mitra\\anaconda3\\lib\\site-packages (from pandas->nsepython) (1.26.4)\n",
      "Requirement already satisfied: python-dateutil>=2.8.2 in c:\\users\\saumya mitra\\anaconda3\\lib\\site-packages (from pandas->nsepython) (2.9.0.post0)\n",
      "Requirement already satisfied: pytz>=2020.1 in c:\\users\\saumya mitra\\anaconda3\\lib\\site-packages (from pandas->nsepython) (2024.1)\n",
      "Requirement already satisfied: tzdata>=2022.7 in c:\\users\\saumya mitra\\anaconda3\\lib\\site-packages (from pandas->nsepython) (2023.3)\n",
      "Requirement already satisfied: charset-normalizer<4,>=2 in c:\\users\\saumya mitra\\anaconda3\\lib\\site-packages (from requests->nsepython) (2.0.4)\n",
      "Requirement already satisfied: idna<4,>=2.5 in c:\\users\\saumya mitra\\anaconda3\\lib\\site-packages (from requests->nsepython) (3.7)\n",
      "Requirement already satisfied: urllib3<3,>=1.21.1 in c:\\users\\saumya mitra\\anaconda3\\lib\\site-packages (from requests->nsepython) (2.2.2)\n",
      "Requirement already satisfied: certifi>=2017.4.17 in c:\\users\\saumya mitra\\anaconda3\\lib\\site-packages (from requests->nsepython) (2024.7.4)\n",
      "Requirement already satisfied: six>=1.5 in c:\\users\\saumya mitra\\anaconda3\\lib\\site-packages (from python-dateutil>=2.8.2->pandas->nsepython) (1.16.0)\n",
      "Downloading nsepython-2.94-py3-none-any.whl (25 kB)\n",
      "Installing collected packages: nsepython\n",
      "Successfully installed nsepython-2.94\n"
     ]
    }
   ],
   "source": [
    "pip install nsepython\n"
   ]
  },
  {
   "cell_type": "code",
   "execution_count": 38,
   "id": "c960cd07-2d5f-4af1-b9b9-9c70f087668b",
   "metadata": {},
   "outputs": [
    {
     "name": "stdout",
     "output_type": "stream",
     "text": [
      "['NIFTY', 'FINNIFTY', 'BANKNIFTY']\n"
     ]
    }
   ],
   "source": [
    "from nsepython import *\n",
    "print(indices)\n"
   ]
  },
  {
   "cell_type": "code",
   "execution_count": 40,
   "id": "f404b30a-172a-4885-ad10-b820bbb079e7",
   "metadata": {},
   "outputs": [
    {
     "name": "stdout",
     "output_type": "stream",
     "text": [
      "{'symbol': 'RELIANCE', 'identifier': '', 'series': 'EQ', 'open': '1278.95', 'dayHigh': '1286', 'dayLow': '1267', 'lastPrice': '1273.4', 'previousClose': '1283.75', 'change': -10.35, 'pChange': -0.81, 'totalTradedVolume': 9056552, 'totalTradedValue': 11550998117.36, 'lastUpdateTime': '28-OCT-2024', 'yearHigh': '1608.8', 'yearLow': '1149.03', 'nearWKH': 20.847836897066127, 'nearWKL': -10.823912343454923, 'perChange365d': -44.54, 'date365dAgo': '10-Nov-2023', 'chart365dPath': 'https://nsearchives.nseindia.com/365d/RELIANCE-EQ.svg', 'date30dAgo': '11-Oct-2024', 'perChange30d': -53.22, 'chart30dPath': 'https://nsearchives.nseindia.com/30d/RELIANCE-EQ.svg', 'chartTodayPath': 'https://nsearchives.nseindia.com/today/RELIANCEEQN.svg', 'meta': {'symbol': 'RELIANCE', 'companyName': 'Reliance Industries Limited', 'industry': 'Refineries & Marketing', 'activeSeries': ['EQ'], 'debtSeries': [], 'isFNOSec': True, 'isCASec': False, 'isSLBSec': True, 'isDebtSec': False, 'isSuspended': False, 'tempSuspendedSeries': [], 'isETFSec': False, 'isDelisted': False, 'isin': 'INE002A01018', 'slb_isin': 'INE002A01018', 'listingDate': '1995-11-29', 'isMunicipalBond': False, 'quotepreopenstatus': {'equityTime': '11-Nov-2024 16:00:00', 'preOpenTime': '11-Nov-2024 09:07:22', 'QuotePreOpenFlag': False}}}\n"
     ]
    }
   ],
   "source": [
    "print(nsetools_get_quote(\"reliance\"))"
   ]
  },
  {
   "cell_type": "code",
   "execution_count": 34,
   "id": "fb602d17-f6c1-4bca-97b3-e8476c102e53",
   "metadata": {},
   "outputs": [
    {
     "name": "stdout",
     "output_type": "stream",
     "text": [
      "Real-time data for: RELIANCE\n",
      "Current Price: 0\n",
      "High Price of the day: 0\n",
      "Low Price of the day: 0\n",
      "Opening Price: 0\n",
      "Previous Close Price: 0\n"
     ]
    }
   ],
   "source": [
    "import requests\n",
    "import json\n",
    "\n",
    "# Your Finnhub API key\n",
    "api_key = 'csp570pr01qnvmpuortgcsp570pr01qnvmpuoru0'\n",
    "\n",
    "# Define the endpoint and parameters\n",
    "symbol = 'RELIANCE'  # For example, Apple Inc.\n",
    "url = f'https://finnhub.io/api/v1/quote?symbol={symbol}.NSE&token={api_key}'\n",
    "\n",
    "# Make the request to Finnhub\n",
    "response = requests.get(url)\n",
    "\n",
    "# Check if the request was successful\n",
    "if response.status_code == 200:\n",
    "    # Parse the JSON response\n",
    "    data = response.json()\n",
    "    # Display the data\n",
    "    print(\"Real-time data for:\", symbol)\n",
    "    print(\"Current Price:\", data['c'])\n",
    "    print(\"High Price of the day:\", data['h'])\n",
    "    print(\"Low Price of the day:\", data['l'])\n",
    "    print(\"Opening Price:\", data['o'])\n",
    "    print(\"Previous Close Price:\", data['pc'])\n",
    "else:\n",
    "    print(\"Failed to retrieve data:\", response.status_code)\n"
   ]
  },
  {
   "cell_type": "code",
   "execution_count": null,
   "id": "ee07908d-eac7-4581-9559-22f9ca8b0cf6",
   "metadata": {},
   "outputs": [],
   "source": []
  }
 ],
 "metadata": {
  "kernelspec": {
   "display_name": "Python 3 (ipykernel)",
   "language": "python",
   "name": "python3"
  },
  "language_info": {
   "codemirror_mode": {
    "name": "ipython",
    "version": 3
   },
   "file_extension": ".py",
   "mimetype": "text/x-python",
   "name": "python",
   "nbconvert_exporter": "python",
   "pygments_lexer": "ipython3",
   "version": "3.12.4"
  }
 },
 "nbformat": 4,
 "nbformat_minor": 5
}
